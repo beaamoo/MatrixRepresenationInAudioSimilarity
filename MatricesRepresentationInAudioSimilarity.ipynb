{
  "nbformat": 4,
  "nbformat_minor": 0,
  "metadata": {
    "colab": {
      "provenance": [],
      "toc_visible": true
    },
    "kernelspec": {
      "name": "python3",
      "display_name": "Python 3"
    },
    "language_info": {
      "name": "python"
    }
  },
  "cells": [
    {
      "cell_type": "markdown",
      "source": [
        "#Matrix Represenation In Audio Similarity\n",
        "IE University BCSAI 2023\n",
        "\n",
        "Matrices and Linear Transformations Project"
      ],
      "metadata": {
        "id": "UZkv9PhTeSo8"
      }
    },
    {
      "cell_type": "markdown",
      "source": [
        "##Introduction\n",
        "A simple approach to analyze audio signals in the form of mp3 files of songs by representing them as matrices, with each row representing a different frequency component and each column representing a short time segment of the audio signal. \n",
        "\n",
        "By applying singular value decomposition (SVD) to these matrices, it is possible to reduce the dimensionality of the data by focusing on the most important frequency components, represented by the singular value vectors.\n",
        "\n",
        "These singular value vectors are then compared using similarity metrics of cosine similarity, Euclidean distance and Manhattan distance to determine how similar the two audio signals are.\n",
        "\n",
        "This approach can be useful for various applications, such as audio classification, music recommendation, and audio similarity analysis.\n",
        "\n",
        "\n",
        "\n"
      ],
      "metadata": {
        "id": "9TRo16aqT3CW"
      }
    },
    {
      "cell_type": "code",
      "execution_count": 11,
      "metadata": {
        "id": "sphnSvd8eMD6"
      },
      "outputs": [],
      "source": [
        "import numpy as np\n",
        "import librosa"
      ]
    },
    {
      "cell_type": "markdown",
      "source": [
        "## Load the audio files\n",
        "The `load` function from the Librosa library returns the audio time series and the sampling rate of the audio."
      ],
      "metadata": {
        "id": "q8VRDOuHR_M0"
      }
    },
    {
      "cell_type": "code",
      "source": [
        "# Load the audio files\n",
        "song1, sr1 = librosa.load('Avalon_Audio_-_Groove_Funk_Beat_Main.mp3')\n",
        "song2, sr2 = librosa.load('Gypsy_Romance_-_GYPSY_RING.mp3')\n",
        "song3, sr3 = librosa.load('Gypsy_Romance_-_GYPSY_RING.mp3')\n",
        "#song3, sr3 = librosa.load('Meditation_Background_-_cleanmindstudio.mp3')"
      ],
      "metadata": {
        "id": "5mA62-ir3PTT"
      },
      "execution_count": 6,
      "outputs": []
    },
    {
      "cell_type": "code",
      "source": [
        "# Ensure that the songs have the same length\n",
        "min_len = min(len(song1), len(song2), len(song3))\n",
        "song1 = song1[:min_len]\n",
        "song2 = song2[:min_len]\n",
        "song3 = song3[:min_len]"
      ],
      "metadata": {
        "id": "Me6JL2Tw33wJ"
      },
      "execution_count": 7,
      "outputs": []
    },
    {
      "cell_type": "markdown",
      "source": [
        "##Convert the audio files into matrix representation using STFT\n",
        "Convert the audio time series into a matrix representation using the Short-Time Fourier Transform (STFT). \n",
        "\n",
        "The STFT breaks the audio signal into small overlapping time windows and calculates the Fourier transform for each window. \n",
        "\n",
        "The resulting matrix represents the magnitude and phase of each frequency component at each time window."
      ],
      "metadata": {
        "id": "9OKZPpHqSQyl"
      }
    },
    {
      "cell_type": "code",
      "source": [
        "# Convert the audio files into matrix representation using STFT\n",
        "hop_length = 512\n",
        "n_fft = 2048\n",
        "stft1 = librosa.stft(song1, hop_length=hop_length, n_fft=n_fft)\n",
        "stft2 = librosa.stft(song2, hop_length=hop_length, n_fft=n_fft)\n",
        "stft3 = librosa.stft(song3, hop_length=hop_length, n_fft=n_fft)"
      ],
      "metadata": {
        "id": "sEsq4VQSLFGP"
      },
      "execution_count": 8,
      "outputs": []
    },
    {
      "cell_type": "markdown",
      "source": [
        "##Apply SVD to the resulting matrix\n",
        "\n",
        "The Singular Value Decomposition (SVD) is applied to the resulting matrix to factorize it into three matrices: U, Σ, and V. U and V are orthogonal matrices, and Σ is a diagonal matrix containing the singular values of the original matrix."
      ],
      "metadata": {
        "id": "mPp153UDS3FY"
      }
    },
    {
      "cell_type": "code",
      "source": [
        "# Apply SVD to the resulting matrices\n",
        "U1, s1, V1 = np.linalg.svd(stft1)\n",
        "U2, s2, V2 = np.linalg.svd(stft2)\n",
        "U3, s3, V3 = np.linalg.svd(stft3)"
      ],
      "metadata": {
        "id": "pcW-60vzICNE"
      },
      "execution_count": 9,
      "outputs": []
    },
    {
      "cell_type": "markdown",
      "source": [
        "##Compare the values of Σ for the songs\n"
      ],
      "metadata": {
        "id": "j6m0xwYeTDEE"
      }
    },
    {
      "cell_type": "markdown",
      "source": [
        "\n",
        "###Cosine similarity \n",
        "is a measure of similarity between two vectors that takes into account the angle between them as is calculated as the dot product of the two vectors divided by the product of their magnitudes. \n",
        "\n",
        "cosine_similarity(a, b) = (a dot b) / (||a|| * ||b||)\n",
        "\n",
        "In this case, we use it to compare the singular value vectors of the two songs."
      ],
      "metadata": {
        "id": "lxsL3Z92W7Kl"
      }
    },
    {
      "cell_type": "code",
      "source": [
        "# Calculate the cosine similarity between the Σ values for the songs\n",
        "similarity12 = np.dot(s1, s2) / (np.linalg.norm(s1) * np.linalg.norm(s2))\n",
        "similarity13 = np.dot(s1, s3) / (np.linalg.norm(s1) * np.linalg.norm(s3))\n",
        "similarity23 = np.dot(s2, s3) / (np.linalg.norm(s2) * np.linalg.norm(s3))\n",
        "\n",
        "print(f\"Cosine similarity between song 1 and 2: {similarity12}\")\n",
        "print(f\"Cosine similarity between song 1 and 3: {similarity13}\")\n",
        "print(f\"Cosine similarity between song 2 and 3: {similarity23}\")"
      ],
      "metadata": {
        "colab": {
          "base_uri": "https://localhost:8080/"
        },
        "id": "mk9Xu8LnLd-9",
        "outputId": "9183a419-dc4d-4f6a-c1ba-47f6da4a8f29"
      },
      "execution_count": 10,
      "outputs": [
        {
          "output_type": "stream",
          "name": "stdout",
          "text": [
            "Cosine similarity between song 1 and 2: 0.9414443373680115\n",
            "Cosine similarity between song 1 and 3: 0.9414443373680115\n",
            "Cosine similarity between song 2 and 3: 1.0\n"
          ]
        }
      ]
    },
    {
      "cell_type": "markdown",
      "source": [
        "###Euclidean distance \n",
        "The Euclidean distance is a measure of the straight-line distance between two points in a multidimensional space, and is calculated as the square root of the sum of the squared differences between corresponding elements of the two matrices.\n",
        "\n",
        "Euclidean distance = √Σ(A[i,j] - B[i,j])²\n",
        "\n",
        "where Σ is the sum over all elements of the matrices A and B, i is the row index, and j is the column index."
      ],
      "metadata": {
        "id": "eUL9I-SKXjI8"
      }
    },
    {
      "cell_type": "code",
      "source": [
        "# Compute the Euclidean distance between the matrices\n",
        "E_dist_12 = np.linalg.norm(s1 - s2)\n",
        "E_dist_23 = np.linalg.norm(s2 - s2)\n",
        "\n",
        "print(f\"Euclidean distance between song 1 and 2: {E_dist_12}\")\n",
        "print(f\"Euclidean distance between song 2 and 3: {E_dist_23}\")"
      ],
      "metadata": {
        "colab": {
          "base_uri": "https://localhost:8080/"
        },
        "id": "Pp3SG2LuTKmX",
        "outputId": "5c7cd7e6-420b-4ca7-c379-1f0cdd14faf8"
      },
      "execution_count": 20,
      "outputs": [
        {
          "output_type": "stream",
          "name": "stdout",
          "text": [
            "Euclidean distance between song 1 and 2: 6897.376953125\n",
            "Euclidean distance between song 2 and 3: 0.0\n"
          ]
        }
      ]
    },
    {
      "cell_type": "markdown",
      "source": [
        "###The Manhattan distance\n",
        "Also known as the taxicab distance or L1 distance, the Manhattan distance, is a measure of distance between two points in a multidimensional space. It is calculated as the sum of the absolute differences between the corresponding elements of the two matrices.\n",
        "\n",
        "Manhattan distance = Σ |A[i,j] - B[i,j]|\n",
        "\n",
        "where Σ is the sum over all elements of the matrices A and B, i is the row index, and j is the column index."
      ],
      "metadata": {
        "id": "j7kmYFmhX2E6"
      }
    },
    {
      "cell_type": "code",
      "source": [
        "# Compute the Manhattan distance between the matrices\n",
        "M_dist_12 = np.linalg.norm(s1 - s2, ord=1)\n",
        "M_dist_23 = np.linalg.norm(s2 - s3, ord=1)\n",
        "\n",
        "print(f\"Manhattan distance between song 1 and 2: {M_dist_12}\")\n",
        "print(f\"Manhattan distance between song 2 and 3: {M_dist_23}\")"
      ],
      "metadata": {
        "colab": {
          "base_uri": "https://localhost:8080/"
        },
        "id": "4FPiQZHHTcdj",
        "outputId": "3a96675f-aee3-4e48-84e7-036981a77f5a"
      },
      "execution_count": 22,
      "outputs": [
        {
          "output_type": "stream",
          "name": "stdout",
          "text": [
            "Manhattan distance between song 1 and 2: 64502.2265625\n",
            "Manhattan distance between song 2 and 3: 0.0\n"
          ]
        }
      ]
    }
  ]
}